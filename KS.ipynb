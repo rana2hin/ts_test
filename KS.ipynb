{
 "cells": [
  {
   "cell_type": "markdown",
   "id": "8965fee5-4900-4eb6-af3b-573a3cba5bad",
   "metadata": {},
   "source": [
    "# 💹Time Series Analysis"
   ]
  },
  {
   "cell_type": "markdown",
   "id": "2cbfa597-19f3-4905-bb23-3a9c5dca2a18",
   "metadata": {},
   "source": [
    "### 🛠️ Loading Libraries "
   ]
  },
  {
   "cell_type": "markdown",
   "id": "b2e23df1-eb3f-46da-ba3a-12374e267f0e",
   "metadata": {},
   "source": [
    "Installing `tabulizer` package in R is a bit hassle,😫 because it is removed from official repository for a reason. I had to install it from GitHub. This is an amazing package for extracting data from PDF files. (Learn more form Internet, Or you can ask me)"
   ]
  },
  {
   "cell_type": "code",
   "execution_count": 1,
   "id": "1c852873-be9a-40f1-a3be-d2eaf2605569",
   "metadata": {},
   "outputs": [
    {
     "name": "stderr",
     "output_type": "stream",
     "text": [
      "Registered S3 method overwritten by 'quantmod':\n",
      "  method            from\n",
      "  as.zoo.data.frame zoo \n",
      "\n"
     ]
    }
   ],
   "source": [
    "library(tabulizer)\n",
    "library(tseries)"
   ]
  },
  {
   "cell_type": "markdown",
   "id": "3ad39a43-c21a-4e26-a1fb-e5ae07924cc5",
   "metadata": {},
   "source": [
    ">⚠ it's just a warning, Leave it!"
   ]
  },
  {
   "cell_type": "markdown",
   "id": "50007ab1-77a0-4485-b85d-f84da6afb49f",
   "metadata": {},
   "source": [
    "### 📂 Loading Data"
   ]
  },
  {
   "cell_type": "markdown",
   "id": "c48cdbd2-9bd7-40f9-91f4-a4002b24c55c",
   "metadata": {},
   "source": [
    "Using `extract_tables()` function from `tabulizer` package. we can get data frame, matrix and various other output from this function by tweaking `output=` argument. but here I used `guess=T` to detect an appropriate type automatically."
   ]
  },
  {
   "cell_type": "code",
   "execution_count": 2,
   "id": "0f3f0429-6f3e-4780-bc8b-245569a60212",
   "metadata": {},
   "outputs": [],
   "source": [
    "dengue <- extract_tables(file = \"dengue data.pdf\", pages = 2, guess = T)[[1]]"
   ]
  },
  {
   "cell_type": "markdown",
   "id": "f5b69e58-446c-4f0b-9e26-5863d734e006",
   "metadata": {},
   "source": [
    "removing unnecessary rows and columns from the matrics, and then convert it to a vector."
   ]
  },
  {
   "cell_type": "code",
   "execution_count": 3,
   "id": "94232b11-8bb8-4f6d-bb4d-d903b3740d78",
   "metadata": {},
   "outputs": [],
   "source": [
    "dengue_vector <- c(dengue[-c(1,14),-1])"
   ]
  },
  {
   "cell_type": "markdown",
   "id": "3297813f-9126-4463-ad07-433a1ee7a43b",
   "metadata": {},
   "source": [
    ">❓Why didn't I Transpose the matrix? Find out the reason."
   ]
  },
  {
   "cell_type": "markdown",
   "id": "3c84f311-766c-463a-bec3-28e114ca0f1d",
   "metadata": {},
   "source": [
    ">💡Tip: Run every line and Look at the output to understand what's going on under the hood."
   ]
  },
  {
   "cell_type": "markdown",
   "id": "5814d5df-6dea-4982-8246-4bf28e0288ea",
   "metadata": {},
   "source": [
    "Vector to Time Series Data. See attached PDF to get clear Idea about Time series data handling in R."
   ]
  },
  {
   "cell_type": "code",
   "execution_count": 4,
   "id": "de75a79c-2948-44e6-82f9-7cffdcb6b554",
   "metadata": {},
   "outputs": [],
   "source": [
    "dengue_ts <- ts(dengue_vector, start = c(2011,1), frequency = 12)"
   ]
  },
  {
   "cell_type": "markdown",
   "id": "0ff6e5f6-e4ec-45b2-8d57-409fcf46e446",
   "metadata": {},
   "source": [
    "### 🦟 Dengue Data (time series)"
   ]
  },
  {
   "cell_type": "code",
   "execution_count": 5,
   "id": "3c419118-edaf-4218-aae0-d73131e6325e",
   "metadata": {},
   "outputs": [
    {
     "data": {
      "text/html": [
       "<table class=\"dataframe\">\n",
       "<caption>A Time Series: 11 × 12</caption>\n",
       "<thead>\n",
       "\t<tr><th></th><th scope=col>Jan</th><th scope=col>Feb</th><th scope=col>Mar</th><th scope=col>Apr</th><th scope=col>May</th><th scope=col>Jun</th><th scope=col>Jul</th><th scope=col>Aug</th><th scope=col>Sep</th><th scope=col>Oct</th><th scope=col>Nov</th><th scope=col>Dec</th></tr>\n",
       "</thead>\n",
       "<tbody>\n",
       "\t<tr><th scope=row>2011</th><td>0    </td><td>0    </td><td>0    </td><td>0    </td><td>0    </td><td>61   </td><td>255  </td><td>691  </td><td>193  </td><td>114  </td><td>36   </td><td>9    </td></tr>\n",
       "\t<tr><th scope=row>2012</th><td>0    </td><td>0    </td><td>0    </td><td>0    </td><td>0    </td><td>16   </td><td>108  </td><td>138  </td><td>262  </td><td>90   </td><td>57   </td><td>0    </td></tr>\n",
       "\t<tr><th scope=row>2013</th><td>0    </td><td>0    </td><td>0    </td><td>0    </td><td>4    </td><td>44   </td><td>220  </td><td>353  </td><td>495  </td><td>363  </td><td>212  </td><td>58   </td></tr>\n",
       "\t<tr><th scope=row>2014</th><td>15   </td><td>7    </td><td>2    </td><td>0    </td><td>8    </td><td>9    </td><td>82   </td><td>80   </td><td>76   </td><td>63   </td><td>22   </td><td>11   </td></tr>\n",
       "\t<tr><th scope=row>2015</th><td>0    </td><td>0    </td><td>2    </td><td>6    </td><td>10   </td><td>28   </td><td>171  </td><td>765  </td><td>965  </td><td>869  </td><td>271  </td><td>75   </td></tr>\n",
       "\t<tr><th scope=row>2016</th><td>13   </td><td>3    </td><td>17   </td><td>38   </td><td>70   </td><td>254  </td><td>926  </td><td>1451 </td><td>1544 </td><td>1077 </td><td>522  </td><td>145  </td></tr>\n",
       "\t<tr><th scope=row>2017</th><td>92   </td><td>58   </td><td>36   </td><td>73   </td><td>134  </td><td>267  </td><td>286  </td><td>346  </td><td>430  </td><td>512  </td><td>409  </td><td>126  </td></tr>\n",
       "\t<tr><th scope=row>2018</th><td>26   </td><td>7    </td><td>19   </td><td>29   </td><td>52   </td><td>295  </td><td>946  </td><td>1796 </td><td>3087 </td><td>2406 </td><td>1192 </td><td>293  </td></tr>\n",
       "\t<tr><th scope=row>2019</th><td>38   </td><td>18   </td><td>17   </td><td>58   </td><td>193  </td><td>1884 </td><td>16253</td><td>52636</td><td>16856</td><td>8143 </td><td>4011 </td><td>1247 </td></tr>\n",
       "\t<tr><th scope=row>2020</th><td>199  </td><td>45   </td><td>27   </td><td>25   </td><td>10   </td><td>20   </td><td>23   </td><td>68   </td><td>47   </td><td>164  </td><td>546  </td><td>231  </td></tr>\n",
       "\t<tr><th scope=row>2021</th><td>32   </td><td>9    </td><td>13   </td><td>3    </td><td>43   </td><td>272  </td><td>2286 </td><td>7698 </td><td>6095 </td><td>     </td><td>     </td><td>     </td></tr>\n",
       "</tbody>\n",
       "</table>\n"
      ],
      "text/latex": [
       "A Time Series: 11 × 12\n",
       "\\begin{tabular}{r|llllllllllll}\n",
       "  & Jan & Feb & Mar & Apr & May & Jun & Jul & Aug & Sep & Oct & Nov & Dec\\\\\n",
       "\\hline\n",
       "\t2011 & 0     & 0     & 0     & 0     & 0     & 61    & 255   & 691   & 193   & 114   & 36    & 9    \\\\\n",
       "\t2012 & 0     & 0     & 0     & 0     & 0     & 16    & 108   & 138   & 262   & 90    & 57    & 0    \\\\\n",
       "\t2013 & 0     & 0     & 0     & 0     & 4     & 44    & 220   & 353   & 495   & 363   & 212   & 58   \\\\\n",
       "\t2014 & 15    & 7     & 2     & 0     & 8     & 9     & 82    & 80    & 76    & 63    & 22    & 11   \\\\\n",
       "\t2015 & 0     & 0     & 2     & 6     & 10    & 28    & 171   & 765   & 965   & 869   & 271   & 75   \\\\\n",
       "\t2016 & 13    & 3     & 17    & 38    & 70    & 254   & 926   & 1451  & 1544  & 1077  & 522   & 145  \\\\\n",
       "\t2017 & 92    & 58    & 36    & 73    & 134   & 267   & 286   & 346   & 430   & 512   & 409   & 126  \\\\\n",
       "\t2018 & 26    & 7     & 19    & 29    & 52    & 295   & 946   & 1796  & 3087  & 2406  & 1192  & 293  \\\\\n",
       "\t2019 & 38    & 18    & 17    & 58    & 193   & 1884  & 16253 & 52636 & 16856 & 8143  & 4011  & 1247 \\\\\n",
       "\t2020 & 199   & 45    & 27    & 25    & 10    & 20    & 23    & 68    & 47    & 164   & 546   & 231  \\\\\n",
       "\t2021 & 32    & 9     & 13    & 3     & 43    & 272   & 2286  & 7698  & 6095  &       &       &      \\\\\n",
       "\\end{tabular}\n"
      ],
      "text/markdown": [
       "\n",
       "A Time Series: 11 × 12\n",
       "\n",
       "| <!--/--> | Jan | Feb | Mar | Apr | May | Jun | Jul | Aug | Sep | Oct | Nov | Dec |\n",
       "|---|---|---|---|---|---|---|---|---|---|---|---|---|\n",
       "| 2011 | 0     | 0     | 0     | 0     | 0     | 61    | 255   | 691   | 193   | 114   | 36    | 9     |\n",
       "| 2012 | 0     | 0     | 0     | 0     | 0     | 16    | 108   | 138   | 262   | 90    | 57    | 0     |\n",
       "| 2013 | 0     | 0     | 0     | 0     | 4     | 44    | 220   | 353   | 495   | 363   | 212   | 58    |\n",
       "| 2014 | 15    | 7     | 2     | 0     | 8     | 9     | 82    | 80    | 76    | 63    | 22    | 11    |\n",
       "| 2015 | 0     | 0     | 2     | 6     | 10    | 28    | 171   | 765   | 965   | 869   | 271   | 75    |\n",
       "| 2016 | 13    | 3     | 17    | 38    | 70    | 254   | 926   | 1451  | 1544  | 1077  | 522   | 145   |\n",
       "| 2017 | 92    | 58    | 36    | 73    | 134   | 267   | 286   | 346   | 430   | 512   | 409   | 126   |\n",
       "| 2018 | 26    | 7     | 19    | 29    | 52    | 295   | 946   | 1796  | 3087  | 2406  | 1192  | 293   |\n",
       "| 2019 | 38    | 18    | 17    | 58    | 193   | 1884  | 16253 | 52636 | 16856 | 8143  | 4011  | 1247  |\n",
       "| 2020 | 199   | 45    | 27    | 25    | 10    | 20    | 23    | 68    | 47    | 164   | 546   | 231   |\n",
       "| 2021 | 32    | 9     | 13    | 3     | 43    | 272   | 2286  | 7698  | 6095  | <!----> | <!----> | <!----> |\n",
       "\n"
      ],
      "text/plain": [
       "     Jan   Feb   Mar   Apr   May   Jun   Jul   Aug   Sep   Oct   Nov   Dec  \n",
       "2011 0     0     0     0     0     61    255   691   193   114   36    9    \n",
       "2012 0     0     0     0     0     16    108   138   262   90    57    0    \n",
       "2013 0     0     0     0     4     44    220   353   495   363   212   58   \n",
       "2014 15    7     2     0     8     9     82    80    76    63    22    11   \n",
       "2015 0     0     2     6     10    28    171   765   965   869   271   75   \n",
       "2016 13    3     17    38    70    254   926   1451  1544  1077  522   145  \n",
       "2017 92    58    36    73    134   267   286   346   430   512   409   126  \n",
       "2018 26    7     19    29    52    295   946   1796  3087  2406  1192  293  \n",
       "2019 38    18    17    58    193   1884  16253 52636 16856 8143  4011  1247 \n",
       "2020 199   45    27    25    10    20    23    68    47    164   546   231  \n",
       "2021 32    9     13    3     43    272   2286  7698  6095                   "
      ]
     },
     "metadata": {},
     "output_type": "display_data"
    }
   ],
   "source": [
    "dengue_ts"
   ]
  },
  {
   "cell_type": "code",
   "execution_count": 6,
   "id": "72983cc7-3054-4b99-899d-c3fc22a16def",
   "metadata": {},
   "outputs": [
    {
     "data": {
      "text/html": [
       "'ts'"
      ],
      "text/latex": [
       "'ts'"
      ],
      "text/markdown": [
       "'ts'"
      ],
      "text/plain": [
       "[1] \"ts\""
      ]
     },
     "metadata": {},
     "output_type": "display_data"
    }
   ],
   "source": [
    "class(dengue_ts)"
   ]
  },
  {
   "cell_type": "markdown",
   "id": "213fa53d-3f4e-4a84-9954-93b83db1961e",
   "metadata": {},
   "source": [
    "### 📈 Plot"
   ]
  },
  {
   "cell_type": "code",
   "execution_count": 7,
   "id": "94c7cd34-84ec-45dc-a468-bab13ca8791e",
   "metadata": {},
   "outputs": [
    {
     "data": {
      "image/png": "[encoded data removed]",
      "text/plain": [
       "plot without title"
      ]
     },
     "metadata": {
      "image/png": {
       "height": 420,
       "width": 420
      }
     },
     "output_type": "display_data"
    }
   ],
   "source": [
    "plot(dengue_ts)"
   ]
  },
  {
   "cell_type": "markdown",
   "id": "b8336e1e-ef96-4612-9da7-1efe0f449526",
   "metadata": {},
   "source": [
    "### 🔠 ADF Test"
   ]
  },
  {
   "cell_type": "code",
   "execution_count": 8,
   "id": "687ba6ab-e99f-438b-8b49-7783d10faa1c",
   "metadata": {},
   "outputs": [
    {
     "name": "stderr",
     "output_type": "stream",
     "text": [
      "Warning message in adf.test(dengue_ts):\n",
      "\"p-value smaller than printed p-value\"\n"
     ]
    },
    {
     "data": {
      "text/plain": [
       "\n",
       "\tAugmented Dickey-Fuller Test\n",
       "\n",
       "data:  dengue_ts\n",
       "Dickey-Fuller = -4.3936, Lag order = 5, p-value = 0.01\n",
       "alternative hypothesis: stationary\n"
      ]
     },
     "metadata": {},
     "output_type": "display_data"
    }
   ],
   "source": [
    "adf.test(dengue_ts)"
   ]
  },
  {
   "cell_type": "markdown",
   "id": "4e1d77e1-a7c4-48a8-b835-74683b6c155a",
   "metadata": {},
   "source": [
    "## Hope You Can Use Other Codes Now! Let me know!"
   ]
  },
  {
   "cell_type": "markdown",
   "id": "1b03bb8f-48c0-46eb-a8f4-f203a55c369e",
   "metadata": {},
   "source": [
    "#### Rough codes"
   ]
  },
  {
   "cell_type": "markdown",
   "id": "23a101e0-8fa9-4690-88bd-067cf2b032ef",
   "metadata": {},
   "source": [
    "run if you want to test. 🥱"
   ]
  },
  {
   "cell_type": "code",
   "execution_count": 9,
   "id": "990cdbb7-5ff9-4664-a9ea-9b6a2bce3b6a",
   "metadata": {},
   "outputs": [],
   "source": [
    "# \n",
    "# dengue <- t(dengue)\n",
    "# \n",
    "# dengue <- dengue %>%\n",
    "#     row_to_names(row_number = 1) # from \"janitor\" package\n",
    "# \n",
    "# dengue <- rownames_to_column(dengue, \"year\")\n",
    "# dengue$year <- as.Date(dengue$year, format = \"YYYY\")\n",
    "\n",
    "# c(extract_tables(file = \"dengue data.pdf\", pages = 2, guess = T)[[1]][-c(1,14),-1])"
   ]
  },
  {
   "cell_type": "markdown",
   "id": "785a88a8-e291-49b8-98e9-c43619215a41",
   "metadata": {},
   "source": [
    "### When I wrote this code, only God and I understood what I did. Now only God knows!"
   ]
  },
  {
   "cell_type": "code",
   "execution_count": null,
   "id": "219ae9c2-9251-4d17-89bc-d23bedf09a7e",
   "metadata": {},
   "outputs": [],
   "source": []
  }
 ],
 "metadata": {
  "kernelspec": {
   "display_name": "R",
   "language": "R",
   "name": "ir"
  },
  "language_info": {
   "codemirror_mode": "r",
   "file_extension": ".r",
   "mimetype": "text/x-r-source",
   "name": "R",
   "pygments_lexer": "r",
   "version": "4.2.2"
  }
 },
 "nbformat": 4,
 "nbformat_minor": 5
}
